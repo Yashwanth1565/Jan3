{
  "nbformat": 4,
  "nbformat_minor": 0,
  "metadata": {
    "colab": {
      "provenance": []
    },
    "kernelspec": {
      "name": "python3",
      "display_name": "Python 3"
    },
    "language_info": {
      "name": "python"
    }
  },
  "cells": [
    {
      "cell_type": "code",
      "execution_count": null,
      "metadata": {
        "id": "YxDsZ_IPNTN5",
        "colab": {
          "base_uri": "https://localhost:8080/"
        },
        "outputId": "33a37655-d21f-40f3-b904-040c564d81b8"
      },
      "outputs": [
        {
          "output_type": "stream",
          "name": "stdout",
          "text": [
            "a\n",
            "g\n",
            "Learning\n",
            "Machine \n",
            "Machine Learning\n",
            "McieL\n",
            "M\n",
            "eL en\n",
            " en\n"
          ]
        }
      ],
      "source": [
        "a=\"Machine Learning\"\n",
        "print(a[1])\n",
        "print(a[-1])\n",
        "print(a[8:16])\n",
        "print(a[:8])\n",
        "print(a[0:])\n",
        "print(a[0:9:2])\n",
        "print(a[0::-1])\n",
        "print(a[9:4:-1])\n",
        "print(a[7:4:-1])"
      ]
    },
    {
      "cell_type": "code",
      "source": [],
      "metadata": {
        "id": "6EYfJZCi96f-"
      },
      "execution_count": null,
      "outputs": []
    },
    {
      "cell_type": "code",
      "source": [
        "b=\"Hello\"\n",
        "print(b*2)\n",
        "c=\" Welcome\"\n",
        "print(b+c)\n"
      ],
      "metadata": {
        "colab": {
          "base_uri": "https://localhost:8080/"
        },
        "id": "gQQVkaoGPFQ3",
        "outputId": "8e07ff25-06ac-42a7-cd8f-5cac60f29cef"
      },
      "execution_count": null,
      "outputs": [
        {
          "output_type": "stream",
          "name": "stdout",
          "text": [
            "HelloHello\n",
            "Hello Welcome\n"
          ]
        }
      ]
    },
    {
      "cell_type": "code",
      "source": [
        "d=\"yashwanth\"\n",
        "d.capitalize() # Call capitalize() method on the string 'd'\n",
        "print(d.capitalize()) # Print the capitalized string"
      ],
      "metadata": {
        "colab": {
          "base_uri": "https://localhost:8080/"
        },
        "id": "gBfUElbcT-_6",
        "outputId": "d1c3998e-74e3-40b4-d042-e8dd577571f6"
      },
      "execution_count": null,
      "outputs": [
        {
          "output_type": "stream",
          "name": "stdout",
          "text": [
            "Yashwanth\n"
          ]
        }
      ]
    },
    {
      "cell_type": "code",
      "source": [
        "d.lower()"
      ],
      "metadata": {
        "colab": {
          "base_uri": "https://localhost:8080/",
          "height": 36
        },
        "id": "-X_I0lD0T_EP",
        "outputId": "95368375-fa1f-4fa9-9444-1d6f4a3066db"
      },
      "execution_count": null,
      "outputs": [
        {
          "output_type": "execute_result",
          "data": {
            "text/plain": [
              "'yashwanth'"
            ],
            "application/vnd.google.colaboratory.intrinsic+json": {
              "type": "string"
            }
          },
          "metadata": {},
          "execution_count": 31
        }
      ]
    },
    {
      "cell_type": "code",
      "source": [
        "d.upper()"
      ],
      "metadata": {
        "colab": {
          "base_uri": "https://localhost:8080/",
          "height": 36
        },
        "id": "yQ9O8ubmT_N6",
        "outputId": "46d315ad-04a4-4845-bd90-f781c4fadcea"
      },
      "execution_count": null,
      "outputs": [
        {
          "output_type": "execute_result",
          "data": {
            "text/plain": [
              "'YASHWANTH'"
            ],
            "application/vnd.google.colaboratory.intrinsic+json": {
              "type": "string"
            }
          },
          "metadata": {},
          "execution_count": 32
        }
      ]
    },
    {
      "cell_type": "code",
      "source": [
        "  a.split()"
      ],
      "metadata": {
        "colab": {
          "base_uri": "https://localhost:8080/"
        },
        "id": "xXRVTCV5T_WE",
        "outputId": "026dc747-1a4b-4396-9f07-95c140520fbe"
      },
      "execution_count": null,
      "outputs": [
        {
          "output_type": "execute_result",
          "data": {
            "text/plain": [
              "['Machine', 'Learning']"
            ]
          },
          "metadata": {},
          "execution_count": 33
        }
      ]
    },
    {
      "cell_type": "code",
      "source": [
        "#d.split()\n",
        "d.replace(\"yashwanth\",\"Shree\")"
      ],
      "metadata": {
        "colab": {
          "base_uri": "https://localhost:8080/",
          "height": 36
        },
        "id": "x4eNhziNT_mE",
        "outputId": "e2a3f274-13cf-4b31-c9ac-d97d2f2b0e8f"
      },
      "execution_count": null,
      "outputs": [
        {
          "output_type": "execute_result",
          "data": {
            "text/plain": [
              "'Shree'"
            ],
            "application/vnd.google.colaboratory.intrinsic+json": {
              "type": "string"
            }
          },
          "metadata": {},
          "execution_count": 36
        }
      ]
    },
    {
      "cell_type": "code",
      "source": [],
      "metadata": {
        "id": "N6gFIXmTWv4N"
      },
      "execution_count": null,
      "outputs": []
    }
  ]
}